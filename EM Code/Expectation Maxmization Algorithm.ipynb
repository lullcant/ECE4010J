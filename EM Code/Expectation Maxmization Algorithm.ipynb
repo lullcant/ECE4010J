{
 "cells": [
  {
   "cell_type": "markdown",
   "id": "c369b62f",
   "metadata": {},
   "source": [
    "### Expectation Maximization (EM) Algorithm\n"
   ]
  },
  {
   "cell_type": "markdown",
   "id": "69e78be7",
   "metadata": {},
   "source": [
    "This notebook is the supplimentary material about EM algorithm written by Linda for RC purpose if there is enough time. Or you can just self-study this algorithm."
   ]
  },
  {
   "cell_type": "code",
   "execution_count": 20,
   "id": "43fb3acb",
   "metadata": {},
   "outputs": [],
   "source": [
    "### Set up the note book\n",
    "import numpy as np\n",
    "import pandas as pd \n",
    "from tqdm import tqdm\n",
    "from matplotlib import pyplot as plt\n",
    "%matplotlib inline\n",
    "plt.style.use('ggplot')\n",
    "np.random.seed(1234)"
   ]
  },
  {
   "cell_type": "markdown",
   "id": "558dddc6",
   "metadata": {},
   "source": [
    "Problem 1 \\\n",
    "In a genetic linkage experiment, 197 animals are randomly assigned to four categories according to the multinomial distribution with cell probabilities $\\pi_1=\\frac{1}{2}+\\frac{\\theta}{4}, \\pi_2=\\frac{1-\\theta}{4}, \\pi_3=\\frac{1-\\theta}{4}$, and $\\pi_4=\\frac{\\theta}{4}$. The corresponding observations are $y=\\left(y_1, y_2, y_3, y_4\\right)=(125,18,20,34)$.\\\n",
    "Please find the most suitable $\\theta$"
   ]
  },
  {
   "cell_type": "code",
   "execution_count": 23,
   "id": "fb812423",
   "metadata": {},
   "outputs": [],
   "source": [
    "y = [125,18,20,34]\n",
    "def safe_log(x):\n",
    "    return np.log(x+1e-8)"
   ]
  },
  {
   "cell_type": "markdown",
   "id": "1af1562c",
   "metadata": {},
   "source": [
    "Actually, in the first place we will think of the maximum liklihood estimation for this problem. The following code is about maximum liklihood."
   ]
  },
  {
   "cell_type": "code",
   "execution_count": 47,
   "id": "f288f66c",
   "metadata": {},
   "outputs": [
    {
     "data": {
      "image/png": "[encoded data removed]",
      "text/plain": [
       "<matplotlib.figure.Figure at 0x22dbb447898>"
      ]
     },
     "metadata": {},
     "output_type": "display_data"
    }
   ],
   "source": [
    "## Visuallize the log-likelihood\n",
    "x = np.arange(0,1.0,0.01) \n",
    "log_liklihood = y[0]*safe_log(0.5+x/4)+(y[1]+y[2])*safe_log(0.25-x/4)+y[3]*safe_log(x/4)\n",
    "plt.plot(x,log_liklihood)\n",
    "plt.axvline(0.63,linestyle='--')\n",
    "plt.xlabel('theta')\n",
    "plt.show()"
   ]
  },
  {
   "cell_type": "markdown",
   "id": "54feefc0",
   "metadata": {},
   "source": [
    "It seems that when $\\theta = 0.63$ it is best"
   ]
  },
  {
   "cell_type": "markdown",
   "id": "b69d1797",
   "metadata": {},
   "source": [
    "The method of EM Algorithm is used to deal with missing data problem, for example, you only know the sum of the two variable but do not know each of them.\n",
    "EM iterates between two steps:\n",
    "1. Minorization (E-step): Find $L\\left(\\theta, F^{(t)}\\right)$ by calculating the expectation of the complete log-likelihood\n",
    "$$\n",
    "\\mathbb{E}_{F^{(t)}}\\left[\\log \\mathbb{P}\\left(Y_{\\text {miss }}, Y_{o b s} \\mid \\theta\\right)\\right]=Q\\left(\\theta \\mid \\theta^{(t)}\\right) .\n",
    "$$\n",
    "Note that $L\\left(\\theta, F^{(t)}\\right)=Q\\left(\\theta \\mid \\theta^{(t)}\\right)+H\\left(F^{(t)}\\right)$, where $H\\left(F^{(t)}\\right)$ is a constant w.r.t $\\theta$ and thus can be omitted.\n",
    "2. Maximization (M-step): $\\max _\\theta L\\left(\\theta, F^{(t)}\\right) \\Leftrightarrow \\max _\\theta Q\\left(\\theta \\mid \\theta^{(t)}\\right)$ to obtain $\\theta^{(t+1)}$."
   ]
  },
  {
   "cell_type": "markdown",
   "id": "2eef1994",
   "metadata": {},
   "source": [
    "Then, let's talk about the EM Algorithm.\\\n",
    "We can treat this as a missing data problem to use EM algorithm to numerically solve it.\\\n",
    "Split the first category $\\pi_1=\\pi_{11}+\\pi_{12}, \\pi_{11}=\\frac{1}{2}, \\pi_{12}=\\frac{\\theta}{4}$. Therefore, the complete data is $y_{c m p}=\\left(y_{11}, y_{12}, y_2, y_3, y_4\\right)$. The complete data log-likelihood is:\n",
    "$$\n",
    "\\begin{aligned}\n",
    "\\ell(\\theta \\mid y) & =y_{11} \\log \\frac{1}{2}+\\left(y_{12}+y_4\\right) \\log \\frac{\\theta}{4}+\\left(y_2+y_3\\right) \\log \\frac{1-\\theta}{4} \\\\\n",
    "& =\\left(y_{12}+y_4\\right) \\log \\theta+\\left(y_2+y_3\\right) \\log (1-\\theta)+\\text { constant. }\n",
    "\\end{aligned}\n",
    "$$\n",
    "EM algorithm:\n",
    "- E-step: Calculate\n",
    "$$\n",
    "\\mathbb{E}\\left(y_{12} \\mid y, \\theta^{(t)}\\right)=y_1 \\frac{\\theta^{(t)} / 4}{1 / 2+\\theta^{(t)} / 4}:=y_{12}^{(t)} .\n",
    "$$\n",
    "Then\n",
    "$$\n",
    "\\begin{aligned}\n",
    "Q\\left(\\theta \\mid \\theta^{(t)}\\right)=\\mathbb{E}\\left[\\ell(\\theta \\mid X) \\mid y, \\theta^{(t)}\\right]=\\left(y_{12}^{(t)}\\right. & \\left.+y_4\\right) \\log \\theta+\\left(y_2+y_3\\right) \\log (1-\\theta) \\\\\n",
    "& + \\text { constant. }\n",
    "\\end{aligned}\n",
    "$$\n",
    "- M-step: Maximizing $Q\\left(\\theta \\mid \\theta^{(t)}\\right)$ (binomial log-likelihood),\n",
    "$$\n",
    "\\theta^{(t+1)}=\\frac{y_{12}^{(t)}+y_4}{y_{12}^{(t)}+y_4+y_2+y_3}\n",
    "$$"
   ]
  },
  {
   "cell_type": "code",
   "execution_count": 50,
   "id": "8972d6ee",
   "metadata": {},
   "outputs": [
    {
     "name": "stderr",
     "output_type": "stream",
     "text": [
      "100%|████████████████████████████████████████████████████████████████████████████████████████| 100/100 [00:00<?, ?it/s]"
     ]
    },
    {
     "name": "stdout",
     "output_type": "stream",
     "text": [
      "step 10 0.6268214978388386\n"
     ]
    },
    {
     "name": "stderr",
     "output_type": "stream",
     "text": [
      "\n"
     ]
    }
   ],
   "source": [
    "##EM Code\n",
    "num_iter = 100\n",
    "theta = 0.5\n",
    "for i in tqdm(range(num_iter)):\n",
    "    E_comp = y[0]*theta/4/(0.5+theta/4)\n",
    "    theta = (E_comp + y[3])/(E_comp+y[3]+y[2]+y[1])\n",
    "    if i%num_iter ==10:\n",
    "        print('step '+str(i), str(theta))\n"
   ]
  },
  {
   "cell_type": "markdown",
   "id": "40bd0982",
   "metadata": {},
   "source": [
    "You find it works!"
   ]
  },
  {
   "cell_type": "code",
   "execution_count": null,
   "id": "d6d42698",
   "metadata": {},
   "outputs": [],
   "source": []
  }
 ],
 "metadata": {
  "kernelspec": {
   "display_name": "ece471",
   "language": "python",
   "name": "ece471"
  },
  "language_info": {
   "codemirror_mode": {
    "name": "ipython",
    "version": 3
   },
   "file_extension": ".py",
   "mimetype": "text/x-python",
   "name": "python",
   "nbconvert_exporter": "python",
   "pygments_lexer": "ipython3",
   "version": "3.6.2"
  }
 },
 "nbformat": 4,
 "nbformat_minor": 5
}
