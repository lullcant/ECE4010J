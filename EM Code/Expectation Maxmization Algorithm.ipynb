{
 "cells": [
  {
   "cell_type": "markdown",
   "id": "c369b62f",
   "metadata": {},
   "source": [
    "### Expectation Maximization (EM) Algorithm\n"
   ]
  },
  {
   "cell_type": "markdown",
   "id": "69e78be7",
   "metadata": {},
   "source": [
    "This notebook is the supplimentary material about EM algorithm written by Linda for RC purpose if there is enough time. Or you can just self-study this algorithm."
   ]
  },
  {
   "cell_type": "code",
   "execution_count": 1,
   "id": "43fb3acb",
   "metadata": {},
   "outputs": [],
   "source": [
    "### Set up the note book\n",
    "import numpy as np\n",
    "import pandas as pd \n",
    "from tqdm import tqdm\n",
    "from matplotlib import pyplot as plt\n",
    "%matplotlib inline\n",
    "plt.style.use('ggplot')\n",
    "np.random.seed(1234)"
   ]
  },
  {
   "cell_type": "markdown",
   "id": "558dddc6",
   "metadata": {},
   "source": [
    "# Example 1\n",
    "In a genetic linkage experiment, 197 animals are randomly assigned to four categories according to the multinomial distribution with cell probabilities $\\pi_1=\\frac{1}{2}+\\frac{\\theta}{4}, \\pi_2=\\frac{1-\\theta}{4}, \\pi_3=\\frac{1-\\theta}{4}$, and $\\pi_4=\\frac{\\theta}{4}$. The corresponding observations are $y=\\left(y_1, y_2, y_3, y_4\\right)=(125,18,20,34)$.\\\n",
    "Please find the most suitable $\\theta$"
   ]
  },
  {
   "cell_type": "code",
   "execution_count": 2,
   "id": "fb812423",
   "metadata": {},
   "outputs": [],
   "source": [
    "y = [125,18,20,34]\n",
    "def safe_log(x):\n",
    "    return np.log(x+1e-8)"
   ]
  },
  {
   "cell_type": "markdown",
   "id": "1af1562c",
   "metadata": {},
   "source": [
    "Actually, in the first place we will think of the maximum liklihood estimation for this problem. The following code is about maximum liklihood."
   ]
  },
  {
   "cell_type": "code",
   "execution_count": 3,
   "id": "f288f66c",
   "metadata": {},
   "outputs": [
    {
     "data": {
      "image/png": "[encoded data removed]",
      "text/plain": [
       "<matplotlib.figure.Figure at 0x1c8276ecd68>"
      ]
     },
     "metadata": {},
     "output_type": "display_data"
    }
   ],
   "source": [
    "## Visuallize the log-likelihood\n",
    "x = np.arange(0,1.0,0.01) \n",
    "log_liklihood = y[0]*safe_log(0.5+x/4)+(y[1]+y[2])*safe_log(0.25-x/4)+y[3]*safe_log(x/4)\n",
    "plt.plot(x,log_liklihood)\n",
    "plt.axvline(0.63,linestyle='--')\n",
    "plt.xlabel('theta')\n",
    "plt.show()"
   ]
  },
  {
   "cell_type": "markdown",
   "id": "54feefc0",
   "metadata": {},
   "source": [
    "It seems that when $\\theta = 0.63$ it is best"
   ]
  },
  {
   "cell_type": "markdown",
   "id": "b69d1797",
   "metadata": {},
   "source": [
    "The method of EM Algorithm is used to deal with missing data problem, for example, you only know the sum of the two variable but do not know each of them.\n",
    "EM iterates between two steps:\n",
    "1. Minorization (E-step): Find $L\\left(\\theta, F^{(t)}\\right)$ by calculating the expectation of the complete log-likelihood\n",
    "$$\n",
    "\\mathbb{E}_{F^{(t)}}\\left[\\log \\mathbb{P}\\left(Y_{\\text {miss }}, Y_{o b s} \\mid \\theta\\right)\\right]=Q\\left(\\theta \\mid \\theta^{(t)}\\right) .\n",
    "$$\n",
    "Note that $L\\left(\\theta, F^{(t)}\\right)=Q\\left(\\theta \\mid \\theta^{(t)}\\right)+H\\left(F^{(t)}\\right)$, where $H\\left(F^{(t)}\\right)$ is a constant w.r.t $\\theta$ and thus can be omitted.\n",
    "2. Maximization (M-step): $\\max _\\theta L\\left(\\theta, F^{(t)}\\right) \\Leftrightarrow \\max _\\theta Q\\left(\\theta \\mid \\theta^{(t)}\\right)$ to obtain $\\theta^{(t+1)}$."
   ]
  },
  {
   "cell_type": "markdown",
   "id": "2eef1994",
   "metadata": {},
   "source": [
    "Then, let's talk about the EM Algorithm.\\\n",
    "We can treat this as a missing data problem to use EM algorithm to numerically solve it.\\\n",
    "Split the first category $\\pi_1=\\pi_{11}+\\pi_{12}, \\pi_{11}=\\frac{1}{2}, \\pi_{12}=\\frac{\\theta}{4}$. Therefore, the complete data is $y_{c m p}=\\left(y_{11}, y_{12}, y_2, y_3, y_4\\right)$. The complete data log-likelihood is:\n",
    "$$\n",
    "\\begin{aligned}\n",
    "\\ell(\\theta \\mid y) & =y_{11} \\log \\frac{1}{2}+\\left(y_{12}+y_4\\right) \\log \\frac{\\theta}{4}+\\left(y_2+y_3\\right) \\log \\frac{1-\\theta}{4} \\\\\n",
    "& =\\left(y_{12}+y_4\\right) \\log \\theta+\\left(y_2+y_3\\right) \\log (1-\\theta)+\\text { constant. }\n",
    "\\end{aligned}\n",
    "$$\n",
    "EM algorithm:\n",
    "- E-step: Calculate\n",
    "$$\n",
    "\\mathbb{E}\\left(y_{12} \\mid y, \\theta^{(t)}\\right)=y_1 \\frac{\\theta^{(t)} / 4}{1 / 2+\\theta^{(t)} / 4}:=y_{12}^{(t)} .\n",
    "$$\n",
    "Then\n",
    "$$\n",
    "\\begin{aligned}\n",
    "Q\\left(\\theta \\mid \\theta^{(t)}\\right)=\\mathbb{E}\\left[\\ell(\\theta \\mid X) \\mid y, \\theta^{(t)}\\right]=\\left(y_{12}^{(t)}\\right. & \\left.+y_4\\right) \\log \\theta+\\left(y_2+y_3\\right) \\log (1-\\theta) \\\\\n",
    "& + \\text { constant. }\n",
    "\\end{aligned}\n",
    "$$\n",
    "- M-step: Maximizing $Q\\left(\\theta \\mid \\theta^{(t)}\\right)$ (binomial log-likelihood),\n",
    "$$\n",
    "\\theta^{(t+1)}=\\frac{y_{12}^{(t)}+y_4}{y_{12}^{(t)}+y_4+y_2+y_3}\n",
    "$$"
   ]
  },
  {
   "cell_type": "code",
   "execution_count": 4,
   "id": "8972d6ee",
   "metadata": {},
   "outputs": [
    {
     "name": "stderr",
     "output_type": "stream",
     "text": [
      "100%|████████████████████████████████████████████████████████████████████████████████████████| 100/100 [00:00<?, ?it/s]"
     ]
    },
    {
     "name": "stdout",
     "output_type": "stream",
     "text": [
      "step 0 0.5125229077580941\n",
      "step 10 0.6268214976553711\n",
      "step 20 0.6268214978709824\n",
      "step 30 0.6268214978709824\n",
      "step 40 0.6268214978709824\n",
      "step 50 0.6268214978709824\n",
      "step 60 0.6268214978709824\n",
      "step 70 0.6268214978709824\n",
      "step 80 0.6268214978709824\n",
      "step 90 0.6268214978709824\n"
     ]
    },
    {
     "name": "stderr",
     "output_type": "stream",
     "text": [
      "\n"
     ]
    }
   ],
   "source": [
    "##EM Code\n",
    "num_iter = 100\n",
    "theta = 0.1\n",
    "for i in tqdm(range(num_iter)):\n",
    "    E_comp = y[0]*theta/4/(0.5+theta/4)\n",
    "    theta = (E_comp + y[3])/(E_comp+y[3]+y[2]+y[1])\n",
    "    if i%10 ==0:\n",
    "        print('step '+str(i), str(theta))\n"
   ]
  },
  {
   "cell_type": "markdown",
   "id": "40bd0982",
   "metadata": {},
   "source": [
    "You find it works!"
   ]
  },
  {
   "cell_type": "markdown",
   "id": "ba0a38bb",
   "metadata": {},
   "source": [
    "Student A:\" Why you use so complecatied EM algorithm in such a simple problem. I can solve it by method of Maximum Likelihood, do statistician only want to show off their skills?\"\n",
    "Answer: \" Of course not! Let's look at the following example.\""
   ]
  },
  {
   "cell_type": "markdown",
   "id": "ec5ebf8f",
   "metadata": {},
   "source": [
    "# Example 2\n",
    "I have 2 coin A,B, whose head probability is $\\theta_A,\\theta_B$ Filp 5 times the result is \\\n",
    "y=((5,5),(9,1),(8,2),(4,6),(7,3)) find $\\theta_A,\\theta_B$"
   ]
  },
  {
   "cell_type": "markdown",
   "id": "bd5a3d6f",
   "metadata": {},
   "source": [
    "Every iteration must cover all the data set. The total log-likelihood must be the weighted sum of llA and llB. Since every time the coin flipping result follows a binomial distribution. Thus,\\\n",
    "E-step:\\\n",
    "$llA_i = y_i(0)log(\\theta_A)+ y_i(1)log(1-\\theta_A)$\\\n",
    "$llB_i = y_i(0)log(\\theta_B)+ y_i(1)log(1-\\theta_B)$\\\n",
    "$ll_{total_i} = w_{A_i}llA_i+w_{B_i}llB_i$\\\n",
    "$w_{A_i} = exp(ll_{A_i})/(exp(ll_{A_i})+exp(ll_{B_i}),w_{A_i}=1-w_{B_i}$\\\n",
    "$ll_{total} = \\sum_{i=1}^5*ll_{total_i}$\n",
    "M-step:\\\n",
    "Find the partial derivative of $ll_{total}$ respect to $\\theta_A, \\theta_B$\\\n",
    "To get $\\theta_A^{(t+1),} \\theta_B^{(t+1)}$"
   ]
  },
  {
   "cell_type": "code",
   "execution_count": 8,
   "id": "0cf9b479",
   "metadata": {},
   "outputs": [
    {
     "name": "stderr",
     "output_type": "stream",
     "text": [
      "100%|██████████████████████████████████████████████████████████████████████████████| 100/100 [00:00<00:00, 3269.93it/s]"
     ]
    },
    {
     "name": "stdout",
     "output_type": "stream",
     "text": [
      "Iteration: 1\n",
      "theta_A = 0.71, theta_B = 0.58, ll = -32.69\n",
      "Iteration: 11\n",
      "theta_A = 0.80, theta_B = 0.52, ll = -29.87\n",
      "Iteration: 21\n",
      "theta_A = 0.80, theta_B = 0.52, ll = -29.87\n",
      "Iteration: 31\n",
      "theta_A = 0.80, theta_B = 0.52, ll = -29.87\n",
      "Iteration: 41\n",
      "theta_A = 0.80, theta_B = 0.52, ll = -29.87\n",
      "Iteration: 51\n",
      "theta_A = 0.80, theta_B = 0.52, ll = -29.87\n",
      "Iteration: 61\n",
      "theta_A = 0.80, theta_B = 0.52, ll = -29.87\n",
      "Iteration: 71\n",
      "theta_A = 0.80, theta_B = 0.52, ll = -29.87\n",
      "Iteration: 81\n",
      "theta_A = 0.80, theta_B = 0.52, ll = -29.87\n",
      "Iteration: 91\n",
      "theta_A = 0.80, theta_B = 0.52, ll = -29.87\n"
     ]
    },
    {
     "name": "stderr",
     "output_type": "stream",
     "text": [
      "\n"
     ]
    },
    {
     "data": {
      "text/plain": [
       "[<matplotlib.lines.Line2D at 0x1c827fbc518>]"
      ]
     },
     "execution_count": 8,
     "metadata": {},
     "output_type": "execute_result"
    },
    {
     "data": {
      "image/png": "[encoded data removed]",
      "text/plain": [
       "<matplotlib.figure.Figure at 0x1c827f32f98>"
      ]
     },
     "metadata": {},
     "output_type": "display_data"
    }
   ],
   "source": [
    "y = np.array([(5,5), (9,1), (8,2), (4,6), (7,3)])\n",
    "thetas = [0.6,0.5]\n",
    "x_ax = []\n",
    "y_ax = []\n",
    "\n",
    "\n",
    "for i in tqdm(range(num_iter)):\n",
    "    ws_A = []\n",
    "    ws_B = []\n",
    "    vs_A = []\n",
    "    vs_B = []\n",
    "    ll_total = 0\n",
    "    x_ax.append(i)\n",
    "    y_ax.append(thetas[0])\n",
    "    for x in y:\n",
    "        llA = x[0]*np.log(thetas[0]) + x[1]*np.log(1-thetas[0])\n",
    "        llB = x[0]*np.log(thetas[1]) + x[1]*np.log(1-thetas[1])\n",
    "        #print(llA,llB)\n",
    "        w_A = np.exp(llA)/(np.exp(llA) + np.exp(llB))\n",
    "        w_B = np.exp(llB)/(np.exp(llA) + np.exp(llB))\n",
    "        \n",
    "        ws_A.append(w_A)\n",
    "        ws_B.append(w_B)\n",
    "        \n",
    "        vs_A.append(np.dot(w_A, x))\n",
    "        vs_B.append(np.dot(w_B, x))\n",
    "        \n",
    "        ll_total +=  w_A*llA + w_B*llB\n",
    "    #print(ll_total)\n",
    "    #print(vs_A)\n",
    "    thetas[0] = (np.sum(vs_A, 0)/np.sum(vs_A))[0]\n",
    "    thetas[1] = (np.sum(vs_B, 0)/np.sum(vs_B))[0]\n",
    "    if i%10 ==0:\n",
    "        print (\"Iteration: %d\" % (i+1))\n",
    "        print (\"theta_A = %.2f, theta_B = %.2f, ll = %.2f\" % (thetas[0], thetas[1], ll_total))\n",
    "plt.plot(np.array(x_ax)[:20],np.array(y_ax)[:20])\n",
    "#     print (\"Iteration: %d\" % (i+1))\n",
    "#     print (\"theta_A = %.2f, theta_B = %.2f, ll = %.2f\" % (thetas[0,0], thetas[1,0], ll_total))"
   ]
  },
  {
   "cell_type": "markdown",
   "id": "1efc981c",
   "metadata": {},
   "source": [
    "You can see this algorithm converges"
   ]
  },
  {
   "cell_type": "code",
   "execution_count": null,
   "id": "a06e11f0",
   "metadata": {},
   "outputs": [],
   "source": []
  }
 ],
 "metadata": {
  "kernelspec": {
   "display_name": "ece471",
   "language": "python",
   "name": "ece471"
  },
  "language_info": {
   "codemirror_mode": {
    "name": "ipython",
    "version": 3
   },
   "file_extension": ".py",
   "mimetype": "text/x-python",
   "name": "python",
   "nbconvert_exporter": "python",
   "pygments_lexer": "ipython3",
   "version": "3.6.2"
  }
 },
 "nbformat": 4,
 "nbformat_minor": 5
}
